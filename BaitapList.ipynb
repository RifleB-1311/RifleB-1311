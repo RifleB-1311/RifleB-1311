{
  "nbformat": 4,
  "nbformat_minor": 0,
  "metadata": {
    "colab": {
      "name": "BaitapList.ipynb",
      "provenance": [],
      "authorship_tag": "ABX9TyPDxr+ykaGU6cmVWERpDls+",
      "include_colab_link": true
    },
    "kernelspec": {
      "name": "python3",
      "display_name": "Python 3"
    },
    "language_info": {
      "name": "python"
    }
  },
  "cells": [
    {
      "cell_type": "markdown",
      "metadata": {
        "id": "view-in-github",
        "colab_type": "text"
      },
      "source": [
        "<a href=\"https://colab.research.google.com/github/RifleB-1311/RifleB-1311/blob/main/BaitapList.ipynb\" target=\"_parent\"><img src=\"https://colab.research.google.com/assets/colab-badge.svg\" alt=\"Open In Colab\"/></a>"
      ]
    },
    {
      "cell_type": "markdown",
      "metadata": {
        "id": "J4WeoBzqAIlU"
      },
      "source": [
        "1. Write a Python program to sum all the items in a list. (sum() function)"
      ]
    },
    {
      "cell_type": "code",
      "metadata": {
        "colab": {
          "base_uri": "https://localhost:8080/"
        },
        "id": "u7j1_eJ1_wP5",
        "outputId": "fafea5dd-05c6-45d9-8581-fe8af16a5859"
      },
      "source": [
        "lst= [1,2,3,4,5]\n",
        "lst =sum(lst)\n",
        "print(lst)"
      ],
      "execution_count": 3,
      "outputs": [
        {
          "output_type": "stream",
          "name": "stdout",
          "text": [
            "15\n"
          ]
        }
      ]
    },
    {
      "cell_type": "markdown",
      "metadata": {
        "id": "Z0U_wludALfT"
      },
      "source": [
        "2. Write a Python program to multiply all the items in a list. (math.prod() function)"
      ]
    },
    {
      "cell_type": "code",
      "metadata": {
        "id": "Vmmy5cRTANK7"
      },
      "source": [
        "làm Google Colab ko được thầy ơi, hàm math.prod ko có"
      ],
      "execution_count": null,
      "outputs": []
    },
    {
      "cell_type": "markdown",
      "metadata": {
        "id": "Hx_V2zcZAasV"
      },
      "source": [
        "3. Write a Python program to get the largest number from a list. (max() function)"
      ]
    },
    {
      "cell_type": "code",
      "metadata": {
        "colab": {
          "base_uri": "https://localhost:8080/"
        },
        "id": "vY7UahuiA_5O",
        "outputId": "03f1b235-7fa4-491d-bcd5-d337769d79b9"
      },
      "source": [
        "lst= [1,2,3,4,5]\n",
        "solonnhat= max(lst)\n",
        "print(solonnhat)"
      ],
      "execution_count": 7,
      "outputs": [
        {
          "output_type": "stream",
          "name": "stdout",
          "text": [
            "5\n"
          ]
        }
      ]
    },
    {
      "cell_type": "markdown",
      "metadata": {
        "id": "ikWTLbLHBJwT"
      },
      "source": [
        "4. Write a Python program to get the smallest number from a list. (min() function)"
      ]
    },
    {
      "cell_type": "code",
      "metadata": {
        "colab": {
          "base_uri": "https://localhost:8080/"
        },
        "id": "sUS_x0i3BLf8",
        "outputId": "4c22418c-8145-40d3-941c-3fa51316fbde"
      },
      "source": [
        "lst= [1,2,3,4,5]\n",
        "sonhonhat= min(lst)\n",
        "print(sonhonhat)"
      ],
      "execution_count": 8,
      "outputs": [
        {
          "output_type": "stream",
          "name": "stdout",
          "text": [
            "1\n"
          ]
        }
      ]
    },
    {
      "cell_type": "markdown",
      "metadata": {
        "id": "nG2gnjIXBTNL"
      },
      "source": [
        "5. Write a Python program to sort a list in descending order (sort() function)"
      ]
    },
    {
      "cell_type": "code",
      "metadata": {
        "colab": {
          "base_uri": "https://localhost:8080/"
        },
        "id": "bR4VWzU3BUw0",
        "outputId": "4e8c818d-b82e-4532-ec86-9fc6a608ba50"
      },
      "source": [
        "lst= [1,3,2,4,5]\n",
        "lst.sort()\n",
        "print(\"Sắp xếp theo giá trị tăng dần:\",lst)"
      ],
      "execution_count": 12,
      "outputs": [
        {
          "output_type": "stream",
          "name": "stdout",
          "text": [
            "Sắp xếp theo giá trị tăng dần: [1, 2, 3, 4, 5]\n"
          ]
        }
      ]
    },
    {
      "cell_type": "markdown",
      "metadata": {
        "id": "wqlAKQhMDfk2"
      },
      "source": [
        "6. Write a Python program to sort a list in ascending order (sort() function)"
      ]
    },
    {
      "cell_type": "code",
      "metadata": {
        "colab": {
          "base_uri": "https://localhost:8080/"
        },
        "id": "foEhqADwDhFd",
        "outputId": "80a227cd-029a-423c-d679-d376df15500d"
      },
      "source": [
        "lst= [1,3,2,4,5]\n",
        "lst.sort(reverse=True)\n",
        "print(\"Sắp xếp theo giá trị giảm dần:\",lst)"
      ],
      "execution_count": 13,
      "outputs": [
        {
          "output_type": "stream",
          "name": "stdout",
          "text": [
            "Sắp xếp theo giá trị giảm dần: [5, 4, 3, 2, 1]\n"
          ]
        }
      ]
    },
    {
      "cell_type": "markdown",
      "metadata": {
        "id": "soIS0VyMDhlM"
      },
      "source": [
        "7. Write a Python program to get the size of a list (len() function)"
      ]
    },
    {
      "cell_type": "code",
      "metadata": {
        "colab": {
          "base_uri": "https://localhost:8080/"
        },
        "id": "Vt3zb9QoDyvQ",
        "outputId": "4e3f782e-f865-42ea-ba41-55170e5e7e23"
      },
      "source": [
        "lst= [1,2,3,4,5]\n",
        "lst=len(lst)\n",
        "print(lst)"
      ],
      "execution_count": 11,
      "outputs": [
        {
          "output_type": "stream",
          "name": "stdout",
          "text": [
            "5\n"
          ]
        }
      ]
    },
    {
      "cell_type": "markdown",
      "metadata": {
        "id": "u4vEkQzLGvlM"
      },
      "source": [
        "8. Write a Python program to get random element(s) of a list (random.choice() function)"
      ]
    },
    {
      "cell_type": "code",
      "metadata": {
        "colab": {
          "base_uri": "https://localhost:8080/"
        },
        "id": "A70Pe059GxbH",
        "outputId": "9f1d12c4-23d9-40c1-dbf8-4248b8abdb2a"
      },
      "source": [
        "import random\n",
        "lst=[1,2,3,4,5]\n",
        "print(random.choices(lst,k=3))"
      ],
      "execution_count": 22,
      "outputs": [
        {
          "output_type": "stream",
          "name": "stdout",
          "text": [
            "[2, 4, 4]\n"
          ]
        }
      ]
    },
    {
      "cell_type": "markdown",
      "metadata": {
        "id": "2FL02lQpHVUP"
      },
      "source": [
        "9. Write a Python program to join two different lists into one (use + or extend() function)"
      ]
    },
    {
      "cell_type": "code",
      "metadata": {
        "colab": {
          "base_uri": "https://localhost:8080/"
        },
        "id": "6T1L307sHfXt",
        "outputId": "42d631ef-d04d-462c-bab8-7e3d9bf11f92"
      },
      "source": [
        "x=[1,2,3,4]\n",
        "y=[5,6,7,8]\n",
        "print(x+y)"
      ],
      "execution_count": 23,
      "outputs": [
        {
          "output_type": "stream",
          "name": "stdout",
          "text": [
            "[1, 2, 3, 4, 5, 6, 7, 8]\n"
          ]
        }
      ]
    }
  ]
}