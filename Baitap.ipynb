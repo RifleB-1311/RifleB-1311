{
  "nbformat": 4,
  "nbformat_minor": 0,
  "metadata": {
    "colab": {
      "name": "Baitap.ipynb",
      "provenance": [],
      "collapsed_sections": [],
      "authorship_tag": "ABX9TyMqmY19EGYElfDv7rgk5S8C",
      "include_colab_link": true
    },
    "kernelspec": {
      "name": "python3",
      "display_name": "Python 3"
    },
    "language_info": {
      "name": "python"
    }
  },
  "cells": [
    {
      "cell_type": "markdown",
      "metadata": {
        "id": "view-in-github",
        "colab_type": "text"
      },
      "source": [
        "<a href=\"https://colab.research.google.com/github/RifleB-1311/RifleB-1311/blob/main/Baitap.ipynb\" target=\"_parent\"><img src=\"https://colab.research.google.com/assets/colab-badge.svg\" alt=\"Open In Colab\"/></a>"
      ]
    },
    {
      "cell_type": "code",
      "metadata": {
        "colab": {
          "base_uri": "https://localhost:8080/"
        },
        "id": "rycUNptoV1EA",
        "outputId": "7f50fb1c-2df3-492d-c620-301acf0ee2a5"
      },
      "source": [
        "#Bai1\n",
        "a=0\n",
        "while a<10:\n",
        "  print(a,end=\" \")\n",
        "  a+=1"
      ],
      "execution_count": null,
      "outputs": [
        {
          "output_type": "stream",
          "name": "stdout",
          "text": [
            "0 1 2 3 4 5 6 7 8 9 "
          ]
        }
      ]
    },
    {
      "cell_type": "code",
      "metadata": {
        "id": "OCR3dfePWEWJ",
        "colab": {
          "base_uri": "https://localhost:8080/"
        },
        "outputId": "4a941cae-a85e-4a7e-948f-31d5e7f8ed20"
      },
      "source": [
        "#Bai2\n",
        "rows = int(input(\"Enter the number of rows: \"))  \n",
        "for i in range(0, rows + 1):   \n",
        "    for j in range(rows - i, 0, -1):  \n",
        "        print(j, end=' ')  \n",
        "    print()  \n"
      ],
      "execution_count": 19,
      "outputs": [
        {
          "output_type": "stream",
          "name": "stdout",
          "text": [
            "Enter the number of rows: 5\n",
            "5 4 3 2 1 \n",
            "4 3 2 1 \n",
            "3 2 1 \n",
            "2 1 \n",
            "1 \n",
            "\n"
          ]
        }
      ]
    },
    {
      "cell_type": "code",
      "metadata": {
        "colab": {
          "base_uri": "https://localhost:8080/"
        },
        "id": "mUlUVzCCWaO4",
        "outputId": "f575c5f2-67cb-460c-ac26-32da6e62bea4"
      },
      "source": [
        "#Bai3\n",
        "a=int(input(\"Nhập số:\"))\n",
        "i=1\n",
        "tong=0\n",
        "for i in range(a):\n",
        "  i+=1\n",
        "  tong=tong+i\n",
        "print(\"Tổng là:\",tong)"
      ],
      "execution_count": null,
      "outputs": [
        {
          "output_type": "stream",
          "name": "stdout",
          "text": [
            "Nhập số:4\n",
            "Tổng là: 10\n"
          ]
        }
      ]
    },
    {
      "cell_type": "code",
      "metadata": {
        "colab": {
          "base_uri": "https://localhost:8080/"
        },
        "id": "6p17j_LKejxz",
        "outputId": "45dca7e7-dc81-490e-8a43-9486e163c565"
      },
      "source": [
        "#Bai4\n",
        "a=int(input(\"Nhập số:\"))\n",
        "i=1\n",
        "for i in range(10):\n",
        "  i+=1\n",
        "  print(a,\"x\",i,\"=\",a*i)"
      ],
      "execution_count": null,
      "outputs": [
        {
          "output_type": "stream",
          "name": "stdout",
          "text": [
            "Nhập số:4\n",
            "4 x 1 = 4\n",
            "4 x 2 = 8\n",
            "4 x 3 = 12\n",
            "4 x 4 = 16\n",
            "4 x 5 = 20\n",
            "4 x 6 = 24\n",
            "4 x 7 = 28\n",
            "4 x 8 = 32\n",
            "4 x 9 = 36\n",
            "4 x 10 = 40\n"
          ]
        }
      ]
    },
    {
      "cell_type": "code",
      "metadata": {
        "colab": {
          "base_uri": "https://localhost:8080/"
        },
        "id": "mo3zXhO0fsfE",
        "outputId": "dc112ce5-bfc2-4207-cba6-94a8f495ae17"
      },
      "source": [
        "#Bai5\n",
        "lst=[1,2,3,\"Bách\"]\n",
        "for i in range(len(lst)):\n",
        "  print(lst[i],end=' ')"
      ],
      "execution_count": null,
      "outputs": [
        {
          "output_type": "stream",
          "name": "stdout",
          "text": [
            "1 2 3 Bách "
          ]
        }
      ]
    },
    {
      "cell_type": "code",
      "metadata": {
        "colab": {
          "base_uri": "https://localhost:8080/"
        },
        "id": "U1B2hgJ8gd7l",
        "outputId": "781950f4-8ddd-43c7-9fb1-7846d330da26"
      },
      "source": [
        "#Bai6\n",
        "a=input(\"Nhập số:\")\n",
        "print(\"Tổng chữ số là:\",len(a))"
      ],
      "execution_count": null,
      "outputs": [
        {
          "output_type": "stream",
          "name": "stdout",
          "text": [
            "Nhập số:1234\n",
            "Tổng chữ số là: 4\n"
          ]
        }
      ]
    },
    {
      "cell_type": "code",
      "metadata": {
        "colab": {
          "base_uri": "https://localhost:8080/"
        },
        "id": "yoE2Zi9thbqF",
        "outputId": "3e60eb06-6ecd-4efb-ebda-715931fa69bd"
      },
      "source": [
        "#Bai7\n",
        "lst=[1,2,3,\"Bách\"]\n",
        "for a in reversed(lst):\n",
        "  print(a,end=\" \")"
      ],
      "execution_count": null,
      "outputs": [
        {
          "output_type": "stream",
          "name": "stdout",
          "text": [
            "Bách 3 2 1 "
          ]
        }
      ]
    },
    {
      "cell_type": "code",
      "metadata": {
        "colab": {
          "base_uri": "https://localhost:8080/"
        },
        "id": "zCzm8niYjmWP",
        "outputId": "d7ef67a7-577a-4970-f15e-39e1ab22c1bf"
      },
      "source": [
        "#Bai8\n",
        "for a in range(-10,0,1):\n",
        "  print(a,end=\" \")"
      ],
      "execution_count": null,
      "outputs": [
        {
          "output_type": "stream",
          "name": "stdout",
          "text": [
            "-10 -9 -8 -7 -6 -5 -4 -3 -2 -1 "
          ]
        }
      ]
    },
    {
      "cell_type": "code",
      "metadata": {
        "id": "SPdMY_knkJpt",
        "colab": {
          "base_uri": "https://localhost:8080/"
        },
        "outputId": "c1fcfbb1-ccab-45b8-ca34-a8455eec9eef"
      },
      "source": [
        "#Bai10\n",
        "a=int(input(\"Nhập số đầu:\"))\n",
        "b=int(input(\"Nhập số cuối:\"))\n",
        "for c in range(a,b+1):\n",
        "  if c>1:\n",
        "    for i in range(2,c):\n",
        "      if c%i==0:\n",
        "        break\n",
        "    else:\n",
        "      print(c)\n"
      ],
      "execution_count": 1,
      "outputs": [
        {
          "output_type": "stream",
          "name": "stdout",
          "text": [
            "Nhập số đầu:1\n",
            "Nhập số cuối:10\n",
            "2\n",
            "3\n",
            "5\n",
            "7\n"
          ]
        }
      ]
    },
    {
      "cell_type": "code",
      "metadata": {
        "colab": {
          "base_uri": "https://localhost:8080/"
        },
        "id": "wpl0iCrAkYMg",
        "outputId": "93e08c8b-307a-4acd-8dcb-e62cde9de331"
      },
      "source": [
        "#Bai11\n",
        "a = 10\n",
        "b = 0\n",
        "c = 1\n",
        "sum = 0\n",
        "count = 1\n",
        "print(\"Fibonacci Series: \", end = \" \")\n",
        "while(count <= a):\n",
        "  print(sum, end = \" \")\n",
        "  count += 1\n",
        "  b = c\n",
        "  c = sum\n",
        "  sum = b + c"
      ],
      "execution_count": 2,
      "outputs": [
        {
          "output_type": "stream",
          "name": "stdout",
          "text": [
            "Fibonacci Series:  0 1 1 2 3 5 8 13 21 34 "
          ]
        }
      ]
    },
    {
      "cell_type": "code",
      "metadata": {
        "colab": {
          "base_uri": "https://localhost:8080/"
        },
        "id": "-E38Xkf2ksgV",
        "outputId": "663b7680-1cb6-4f1f-ba48-619e9af01680"
      },
      "source": [
        "#Bai12\n",
        "a=int(input(\"Nhập số cần tính:\"))\n",
        "giaithua=1\n",
        "if a<0:\n",
        "  print(\"Ko có giai thừa\")\n",
        "elif a==0:\n",
        "  print(\"Giai thừa là 1\")\n",
        "else:\n",
        "  for i in range(1,a+1):\n",
        "    giaithua=giaithua*i\n",
        "  print(\"Giai thừa của\",a,\"là\",giaithua)"
      ],
      "execution_count": 4,
      "outputs": [
        {
          "output_type": "stream",
          "name": "stdout",
          "text": [
            "Nhập số cần tính:2\n",
            "Giai thừa của 2 là 2\n"
          ]
        }
      ]
    },
    {
      "cell_type": "code",
      "metadata": {
        "colab": {
          "base_uri": "https://localhost:8080/"
        },
        "id": "BtDSppVQlhB_",
        "outputId": "55ced72f-e3af-4b34-f70c-3dfc98c9ad65"
      },
      "source": [
        "#Bai13\n",
        "a = 12345\n",
        "reversed_num = 0\n",
        "\n",
        "while a!= 0:\n",
        "    digit = a % 10\n",
        "    reversed_num = reversed_num * 10 + digit\n",
        "    a //= 10\n",
        "\n",
        "print(\"Reversed Number: \" + str(reversed_num))"
      ],
      "execution_count": 11,
      "outputs": [
        {
          "output_type": "stream",
          "name": "stdout",
          "text": [
            "Reversed Number: 54321\n"
          ]
        }
      ]
    },
    {
      "cell_type": "code",
      "metadata": {
        "colab": {
          "base_uri": "https://localhost:8080/"
        },
        "id": "4UXdymwtnSNw",
        "outputId": "f2169de3-02eb-4065-8de2-eb8f4d74ed89"
      },
      "source": [
        "#Bai14\n",
        "lst=[1,2,3,4,5,6,7]\n",
        "for i in range(0,len(lst),2):\n",
        "  print(lst[i],end=\" \")"
      ],
      "execution_count": 14,
      "outputs": [
        {
          "output_type": "stream",
          "name": "stdout",
          "text": [
            "1 3 5 7 "
          ]
        }
      ]
    },
    {
      "cell_type": "code",
      "metadata": {
        "colab": {
          "base_uri": "https://localhost:8080/"
        },
        "id": "QSvmEiQgnyih",
        "outputId": "7bd94f06-96d2-4314-8379-98b9b2e07ce3"
      },
      "source": [
        "#Bai15\n",
        "a = int(input(\" Nhập số : \"))\n",
        "b=1\n",
        "for i in range(b,a-1):\n",
        "  i=b*b*b\n",
        "print(i)"
      ],
      "execution_count": 25,
      "outputs": [
        {
          "output_type": "stream",
          "name": "stdout",
          "text": [
            " Nhập số : 2\n",
            "1\n"
          ]
        }
      ]
    }
  ]
}