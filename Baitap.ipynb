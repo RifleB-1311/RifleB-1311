{
  "nbformat": 4,
  "nbformat_minor": 0,
  "metadata": {
    "colab": {
      "name": "Baitap.ipynb",
      "provenance": [],
      "collapsed_sections": [],
      "authorship_tag": "ABX9TyMlki0m0We109+ffHSvSdWz",
      "include_colab_link": true
    },
    "kernelspec": {
      "name": "python3",
      "display_name": "Python 3"
    },
    "language_info": {
      "name": "python"
    }
  },
  "cells": [
    {
      "cell_type": "markdown",
      "metadata": {
        "id": "view-in-github",
        "colab_type": "text"
      },
      "source": [
        "<a href=\"https://colab.research.google.com/github/RifleB-1311/RifleB-1311/blob/main/Baitap.ipynb\" target=\"_parent\"><img src=\"https://colab.research.google.com/assets/colab-badge.svg\" alt=\"Open In Colab\"/></a>"
      ]
    },
    {
      "cell_type": "code",
      "metadata": {
        "colab": {
          "base_uri": "https://localhost:8080/"
        },
        "id": "JUurh53g7Dk6",
        "outputId": "970b60b7-1640-45d2-b8f0-71f860a79ea6"
      },
      "source": [
        "#Ex1\n",
        "a=int(input(\"Nhập số: \"))\n",
        "if a>0:\n",
        "  print(\"Số dương\")\n",
        "elif a<0:\n",
        "  print(\"Số âm\")\n",
        "else:\n",
        "  print(\"Không xác định\")"
      ],
      "execution_count": null,
      "outputs": [
        {
          "output_type": "stream",
          "name": "stdout",
          "text": [
            "Nhập số: 0\n",
            "Không xác định\n"
          ]
        }
      ]
    },
    {
      "cell_type": "code",
      "metadata": {
        "colab": {
          "base_uri": "https://localhost:8080/"
        },
        "id": "VINT-Oxa70_d",
        "outputId": "eb8fbb1a-3701-4a08-da00-1302b24f1b75"
      },
      "source": [
        "#Ex2\n",
        "a=int(input(\"Nhập số đầu tiên:\"))\n",
        "b=int(input(\"Nhập số thứ hai:\"))\n",
        "c=int(input(\"Nhập số thứ ba:\"))\n",
        "if (a>b and a>c):\n",
        "  print(\"Số lớn nhất là:\", a)\n",
        "if (b>a and b>c):\n",
        "  print(\"Số lớn nhất là:\",b)\n",
        "if (c>a and c>b):\n",
        "  print(\"Số lớn nhất là:\",c)"
      ],
      "execution_count": null,
      "outputs": [
        {
          "output_type": "stream",
          "name": "stdout",
          "text": [
            "Nhập số đầu tiên:10\n",
            "Nhập số thứ hai:30\n",
            "Nhập số thứ ba:20\n",
            "Số lớn nhất là: 30\n"
          ]
        }
      ]
    },
    {
      "cell_type": "code",
      "metadata": {
        "id": "nPW9kGSc-rQW",
        "colab": {
          "base_uri": "https://localhost:8080/"
        },
        "outputId": "9ca4194d-179b-42d8-b36d-2a90e814304d"
      },
      "source": [
        "#Ex3\n",
        "import math\n",
        "a=float(input(\"Nhập số:\"))\n",
        "if abs(a)>1000000:\n",
        "  print(\"Large\")\n",
        "elif abs(a)<1:\n",
        "  print(\"Small\")\n",
        "elif a>0 and a<1000000:\n",
        "  print(\"Số dương\")  \n",
        "elif a<0:\n",
        "  print(\"Số âm\")\n",
        "else:\n",
        "  print(\"Zero\")"
      ],
      "execution_count": 17,
      "outputs": [
        {
          "output_type": "stream",
          "name": "stdout",
          "text": [
            "Nhập số:20000000000\n",
            "Large\n"
          ]
        }
      ]
    },
    {
      "cell_type": "code",
      "metadata": {
        "colab": {
          "base_uri": "https://localhost:8080/"
        },
        "id": "Rd-2FiNK_qhW",
        "outputId": "16f1c19d-6a10-400a-f7d2-effd09bd5dce"
      },
      "source": [
        "#Ex4\n",
        "a= int(input(\"Nhập số:\"))\n",
        "if a==1:\n",
        "  print(\"Monday\")\n",
        "elif a==2:\n",
        "  print(\"Tuesday\")\n",
        "elif a==3:\n",
        "  print(\"Wenesday\")\n",
        "elif a==4:\n",
        "  print(\"Thursday\")\n",
        "elif a==5:\n",
        "  print(\"Friday\")\n",
        "elif a==6:\n",
        "  print(\"Saturday\")\n",
        "elif a==7:\n",
        "  print(\"Sunday\")\n",
        "else:\n",
        "  print(\"Not valid\")"
      ],
      "execution_count": null,
      "outputs": [
        {
          "output_type": "stream",
          "name": "stdout",
          "text": [
            "Nhập số:0\n",
            "Not valid\n"
          ]
        }
      ]
    },
    {
      "cell_type": "code",
      "metadata": {
        "colab": {
          "base_uri": "https://localhost:8080/"
        },
        "id": "TgRKOUMLAkz_",
        "outputId": "914adc6c-0207-45cf-f70a-cd1488bae009"
      },
      "source": [
        "#Ex5\n",
        "a=float(input(\"Nhập số đầu tiên:\"))\n",
        "b=float(input(\"Nhập số thứ hai:\"))\n",
        "c=round(a,3)\n",
        "d=round(b,3)\n",
        "if c>a:\n",
        "  c=c-0.001\n",
        "if d>b:\n",
        "  d=d-0.001\n",
        "if c==d:\n",
        "  print(\"They are same\")\n",
        "else:\n",
        "  print(\"They are different\")"
      ],
      "execution_count": 1,
      "outputs": [
        {
          "output_type": "stream",
          "name": "stdout",
          "text": [
            "Nhập số đầu tiên:21.45689\n",
            "Nhập số thứ hai:21.45699\n",
            "They are same\n"
          ]
        }
      ]
    }
  ]
}