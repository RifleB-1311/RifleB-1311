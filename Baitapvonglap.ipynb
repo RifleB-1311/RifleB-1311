{
  "nbformat": 4,
  "nbformat_minor": 0,
  "metadata": {
    "colab": {
      "name": "Baitapvonglap.ipynb",
      "provenance": [],
      "collapsed_sections": [],
      "authorship_tag": "ABX9TyM2llRCEbSsSzZ+m15r3EfZ",
      "include_colab_link": true
    },
    "kernelspec": {
      "name": "python3",
      "display_name": "Python 3"
    },
    "language_info": {
      "name": "python"
    }
  },
  "cells": [
    {
      "cell_type": "markdown",
      "metadata": {
        "id": "view-in-github",
        "colab_type": "text"
      },
      "source": [
        "<a href=\"https://colab.research.google.com/github/RifleB-1311/RifleB-1311/blob/main/Baitapvonglap.ipynb\" target=\"_parent\"><img src=\"https://colab.research.google.com/assets/colab-badge.svg\" alt=\"Open In Colab\"/></a>"
      ]
    },
    {
      "cell_type": "markdown",
      "metadata": {
        "id": "BGbDr7c5HdJX"
      },
      "source": [
        "Bài 1:Viết chương trình tìm tất cả các số chia hết cho 7 nhưng không phải bội số của 5, nằm trong\n",
        "đoạn 10 và 200 (tính cả 10 và 200). Các số thu được sẽ được in ra màn hình."
      ]
    },
    {
      "cell_type": "code",
      "metadata": {
        "colab": {
          "base_uri": "https://localhost:8080/"
        },
        "id": "BP8aGtMF1Kgk",
        "outputId": "e1af39b8-f8c8-4056-dcfa-88e7f066000f"
      },
      "source": [
        "#Bai1\n",
        "for i in range(10,201):\n",
        "  if (i%7==0) and (i%5!=0):\n",
        "    print(i)"
      ],
      "execution_count": null,
      "outputs": [
        {
          "output_type": "stream",
          "name": "stdout",
          "text": [
            "14\n",
            "21\n",
            "28\n",
            "42\n",
            "49\n",
            "56\n",
            "63\n",
            "77\n",
            "84\n",
            "91\n",
            "98\n",
            "112\n",
            "119\n",
            "126\n",
            "133\n",
            "147\n",
            "154\n",
            "161\n",
            "168\n",
            "182\n",
            "189\n",
            "196\n"
          ]
        }
      ]
    },
    {
      "cell_type": "markdown",
      "metadata": {
        "id": "X6Ant5OEHfup"
      },
      "source": [
        "Bài 2:Viết một chương trình tính giai thừa của một số nguyên dương n. Với n được nhập từ bàn\n",
        "phím."
      ]
    },
    {
      "cell_type": "code",
      "metadata": {
        "id": "-QWYC8x92OGu"
      },
      "source": [
        "#Bai2\n",
        "giaithua=1\n",
        "a=int(input(\"Nhập số:\"))\n",
        "if a<0:\n",
        "  print(\"Ko có giai thừa\")\n",
        "elif a==0:\n",
        "  print(\"Giai thừa là 1\")\n",
        "else:\n",
        "  for i in range(1,a+1):\n",
        "    giaithua=giaithua*i\n",
        "  print(\"Giai thừa của\",a,\"là:\",giaithua)"
      ],
      "execution_count": null,
      "outputs": []
    },
    {
      "cell_type": "markdown",
      "metadata": {
        "id": "Dth0GbmAHovv"
      },
      "source": [
        "Bài 3:Dãy số Fibonacci được định nghĩa như sau: F0 = 0, F1 = 1, F2 = 1, Fn = F(n-1) + F(n-2)\n",
        "với n >= 2. Ví dụ: 0, 1, 1, 2, 3, 5, 8, ... Hãy viết chương trình tìm n số Fibonacci đầu tiên với n\n",
        "nhập vào từ bàn phím."
      ]
    },
    {
      "cell_type": "code",
      "metadata": {
        "colab": {
          "base_uri": "https://localhost:8080/"
        },
        "id": "c1wf4Sj5HrrH",
        "outputId": "a18a62cf-d83f-4a36-8651-973cf8da2866"
      },
      "source": [
        "#Bài3\n",
        "n = int(input(\"Nhập n: \"))\n",
        "a = 0\n",
        "b = 1\n",
        "tong = 0\n",
        "dem = 1\n",
        "print(\"Dãy Fibonacci : \", end = \" \")\n",
        "while(dem <= n):\n",
        "  print(tong, end = \" \")\n",
        "  dem += 1\n",
        "  a = b\n",
        "  b = tong\n",
        "  tong = a + b"
      ],
      "execution_count": null,
      "outputs": [
        {
          "output_type": "stream",
          "name": "stdout",
          "text": [
            "Nhập số n Fibonacci: 4\n",
            "Dãy Fibonacci :  0 1 1 2 "
          ]
        }
      ]
    },
    {
      "cell_type": "markdown",
      "metadata": {
        "id": "aWfiplIAICVI"
      },
      "source": [
        "Bài 4:Viết chương trình liệt kê tất cả các số nguyên tố nhỏ hơn n. Số nguyên dương n được nhập\n",
        "từ bàn phím."
      ]
    },
    {
      "cell_type": "code",
      "metadata": {
        "colab": {
          "base_uri": "https://localhost:8080/"
        },
        "id": "aPZF3mkF3sOV",
        "outputId": "c0331699-6722-4004-ce62-16eec7c950ae"
      },
      "source": [
        "#Bai4\n",
        "a=0\n",
        "b=int(input(\"Nhập số:\"))\n",
        "for i in range(a,b):\n",
        "  if i>1:\n",
        "    for j in range(2,i):\n",
        "      if i % j ==0:\n",
        "        break\n",
        "    else:\n",
        "      print(i)\n"
      ],
      "execution_count": null,
      "outputs": [
        {
          "output_type": "stream",
          "name": "stdout",
          "text": [
            "Nhập số:5\n",
            "2\n",
            "3\n"
          ]
        }
      ]
    },
    {
      "cell_type": "markdown",
      "metadata": {
        "id": "3Z5WJ404IFNI"
      },
      "source": [
        "Bài 5 :Viết chương trình liệt kê n số nguyên tố đầu tiên. Số nguyên dương n được nhập từ bàn\n",
        "phím."
      ]
    },
    {
      "cell_type": "code",
      "metadata": {
        "colab": {
          "base_uri": "https://localhost:8080/"
        },
        "id": "9lBVsioK6OdV",
        "outputId": "f7d02f7c-621d-451d-f680-df59c5060977"
      },
      "source": [
        "#Bai5\n",
        "#n=int(input(\"Nhập giá trị n:\"))\n",
        "i=1\n",
        "x = int(input(\"Enter the number:\"))\n",
        "for k in range (1, (x+1), 1):\n",
        "    c=0\n",
        "    for j in range (1, (i+1), 1):\n",
        "        a = i%j\n",
        "        if (a==0):\n",
        "            c = c+1\n",
        "    if (c==2):\n",
        "          print (i)\n",
        "    else:\n",
        "          k = k-1\n",
        "\n",
        "    i=i+1"
      ],
      "execution_count": null,
      "outputs": [
        {
          "output_type": "stream",
          "name": "stdout",
          "text": [
            "Enter the number:4\n",
            "2\n",
            "3\n"
          ]
        }
      ]
    },
    {
      "cell_type": "markdown",
      "metadata": {
        "id": "m7pzs_NTIJE5"
      },
      "source": [
        "Bài 6 :Viết chương trình liệt kê tất cả số nguyên tố có 5 chữ số."
      ]
    },
    {
      "cell_type": "code",
      "metadata": {
        "id": "FEVyEGOdIIIo"
      },
      "source": [
        "#Bài6\n",
        "a = 10000\n",
        "b = 100000\n",
        "for num in range(a, b + 1):\n",
        "   if num > 1:\n",
        "       for i in range(2, num):\n",
        "           if (num % i) == 0:\n",
        "               break\n",
        "       else:\n",
        "           print(num)\n"
      ],
      "execution_count": null,
      "outputs": []
    },
    {
      "cell_type": "markdown",
      "metadata": {
        "id": "MNYqBWJ9IpZA"
      },
      "source": [
        "Bài 7:Viết chương trình tính tổng của các chữ số của môt số nguyên n. Số nguyên dương n được\n",
        "nhập từ bàn phím."
      ]
    },
    {
      "cell_type": "code",
      "metadata": {
        "colab": {
          "base_uri": "https://localhost:8080/"
        },
        "id": "tlvwkx_aBJiY",
        "outputId": "a1e68865-239f-45dc-8062-d55dfd0a65c7"
      },
      "source": [
        "#Bài7\n",
        "n=int(input(\"Nhập số:\"))\n",
        "tong=0\n",
        "while n>0:\n",
        "  tong=tong+n%10\n",
        "  n=n/10\n",
        "tong2=round(tong,0)\n",
        "if tong2>tong:\n",
        "  tong2=tong2-1\n",
        "print(\"Tổng là:\",int(tong2))"
      ],
      "execution_count": null,
      "outputs": [
        {
          "output_type": "stream",
          "name": "stdout",
          "text": [
            "Nhập số:123\n",
            "Tổng là: 6\n"
          ]
        }
      ]
    }
  ]
}