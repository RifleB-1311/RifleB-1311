{
  "nbformat": 4,
  "nbformat_minor": 0,
  "metadata": {
    "colab": {
      "name": "Baitaplaptrinh02.ipynb",
      "provenance": [],
      "authorship_tag": "ABX9TyNsFagBS6QpbvPEQK4nuevh",
      "include_colab_link": true
    },
    "kernelspec": {
      "name": "python3",
      "display_name": "Python 3"
    },
    "language_info": {
      "name": "python"
    }
  },
  "cells": [
    {
      "cell_type": "markdown",
      "metadata": {
        "id": "view-in-github",
        "colab_type": "text"
      },
      "source": [
        "<a href=\"https://colab.research.google.com/github/RifleB-1311/RifleB-1311/blob/main/Baitaplaptrinh02.ipynb\" target=\"_parent\"><img src=\"https://colab.research.google.com/assets/colab-badge.svg\" alt=\"Open In Colab\"/></a>"
      ]
    },
    {
      "cell_type": "markdown",
      "metadata": {
        "id": "aaMk5amYV4r4"
      },
      "source": [
        "1. Write a Python program to find the number of days in a month."
      ]
    },
    {
      "cell_type": "code",
      "metadata": {
        "colab": {
          "base_uri": "https://localhost:8080/"
        },
        "id": "4RT83X4kJFOi",
        "outputId": "2b3072c2-5827-424a-f43b-03621f2dac37"
      },
      "source": [
        "month = int(input(\" Tháng: \"))\n",
        "year = int(input(\"Năm: \"))\n",
        "if(month == 1 or month == 3 or month == 5 or month == 7 or month == 8 or month == 10 or month == 12):\n",
        "\tprint(\"Tháng\",month,\"năm\",year,\"có 31 ngày\")\n",
        "elif((month == 2) and (year%4==0 )):\t\n",
        "\tprint(\"Tháng \",month,\"năm\",year, \"có 29 ngày, Nhuận\")\n",
        "elif(month == 2):\n",
        "\tprint(\"Tháng\",month,\"năm\",year,\"có 28 ngày\")\n",
        "else:\n",
        "\tprint(\"Tháng\",month,\"năm\",year,\"có 30 ngày\")"
      ],
      "execution_count": 3,
      "outputs": [
        {
          "output_type": "stream",
          "name": "stdout",
          "text": [
            " Tháng: 2\n",
            "Năm: 2016\n",
            "Tháng  2 năm 2016 có 29 ngày, Nhuận\n"
          ]
        }
      ]
    },
    {
      "cell_type": "markdown",
      "metadata": {
        "id": "hrjpmx4uWsLB"
      },
      "source": [
        "2. Write a Python program that takes the user to provide a single character from the alphabet. Print\n",
        "Vowel or Consonant, depending on the user input. If the user input is not a letter (between a and z\n",
        "or A and Z), or is a string of length > 1, print an error message."
      ]
    },
    {
      "cell_type": "code",
      "metadata": {
        "colab": {
          "base_uri": "https://localhost:8080/"
        },
        "id": "hw046jU_WG5y",
        "outputId": "705b4bf5-3c47-4971-de50-6a795a21c1b8"
      },
      "source": [
        "a= input(\"Nhập:\")\n",
        "if(a==\"u\" or a==\"e\" or a==\"o\" or a==\"a\" or a==\"i\"):\n",
        "  print(a,\"là Nguyên âm\")\n",
        "else:\n",
        "  print(a,\"Không phải là nguyên âm\")"
      ],
      "execution_count": 4,
      "outputs": [
        {
          "output_type": "stream",
          "name": "stdout",
          "text": [
            "Nhập:u\n",
            "u là Nguyên âm\n"
          ]
        }
      ]
    },
    {
      "cell_type": "markdown",
      "metadata": {
        "id": "bsW9dzkOXHsx"
      },
      "source": [
        "3. Write a Python program that takes a year from user and print whether that year is a leap year or\n",
        "not"
      ]
    },
    {
      "cell_type": "code",
      "metadata": {
        "colab": {
          "base_uri": "https://localhost:8080/"
        },
        "id": "UAzltMrvXJ85",
        "outputId": "442f45b8-f1fc-4697-86fd-f668c9d369c0"
      },
      "source": [
        "year = int(input(\"Nhập năm: \"))\n",
        "if( year%4==0 ):\t\n",
        "  print(\"Năm\",year,\"là năm nhuận\")\n",
        "else:\n",
        "  print(\"Năm\",year, \"không phải năm nhuận\")"
      ],
      "execution_count": 6,
      "outputs": [
        {
          "output_type": "stream",
          "name": "stdout",
          "text": [
            "Nhập năm: 2016\n",
            "Năm 2016 là năm nhuận\n"
          ]
        }
      ]
    },
    {
      "cell_type": "markdown",
      "metadata": {
        "id": "Qnr8E6HYXkEQ"
      },
      "source": [
        "4. Write a program in Python to input 5 numbers from keyboard and find their sum and average."
      ]
    },
    {
      "cell_type": "code",
      "metadata": {
        "colab": {
          "base_uri": "https://localhost:8080/"
        },
        "id": "Vufky5GOXnT6",
        "outputId": "8ccb1b49-4367-448e-a43e-50cce8f78afa"
      },
      "source": [
        "a= int(input(\"Nhập số 1: \"))\n",
        "b= int(input(\"Nhập số 2: \"))\n",
        "c= int(input(\"Nhập số 3: \"))\n",
        "d= int(input(\"Nhập số 4: \"))\n",
        "e= int(input(\"Nhập số 5: \"))\n",
        "tong= a+b+c+d+e\n",
        "print(\"tổng\",tong)\n",
        "tb=tong/5\n",
        "print(\"trung bình\",tb)"
      ],
      "execution_count": 7,
      "outputs": [
        {
          "output_type": "stream",
          "name": "stdout",
          "text": [
            "Nhập số: 1\n",
            "Nhập số: 2\n",
            "Nhập số: 3\n",
            "Nhập số: 4\n",
            "Nhập số: 5\n",
            "tổng 15\n",
            "trung bình 3.0\n"
          ]
        }
      ]
    }
  ]
}