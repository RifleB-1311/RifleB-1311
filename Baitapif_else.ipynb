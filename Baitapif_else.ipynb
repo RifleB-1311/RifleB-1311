{
  "nbformat": 4,
  "nbformat_minor": 0,
  "metadata": {
    "colab": {
      "name": "Baitapif-else.ipynb",
      "provenance": [],
      "authorship_tag": "ABX9TyOE+pjEqePqf3Oy/ewrNRv9",
      "include_colab_link": true
    },
    "kernelspec": {
      "name": "python3",
      "display_name": "Python 3"
    },
    "language_info": {
      "name": "python"
    }
  },
  "cells": [
    {
      "cell_type": "markdown",
      "metadata": {
        "id": "view-in-github",
        "colab_type": "text"
      },
      "source": [
        "<a href=\"https://colab.research.google.com/github/RifleB-1311/RifleB-1311/blob/main/Baitapif_else.ipynb\" target=\"_parent\"><img src=\"https://colab.research.google.com/assets/colab-badge.svg\" alt=\"Open In Colab\"/></a>"
      ]
    },
    {
      "cell_type": "markdown",
      "metadata": {
        "id": "MAUcGgc89v2q"
      },
      "source": [
        "0 ≤ dtb < 5: Yếu,\n",
        "5 ≤ dtb < 7: Trung bình,\n",
        "7 ≤ dtb < 8: Khá,\n",
        "8 ≤ dtb < 9: Giỏi,\n",
        "dtb ≥ 9: Xuất sắc,\n",
        "Xây dựng chương trình Python xếp hạng dựa vào dtb nhập từ bàn phím\n",
        "\n"
      ]
    },
    {
      "cell_type": "code",
      "metadata": {
        "colab": {
          "base_uri": "https://localhost:8080/"
        },
        "id": "PqZR7-OP9p4L",
        "outputId": "0d7766e0-7c2a-461d-a4b6-1a12fbb089dc"
      },
      "source": [
        "dtb = float(input(\"Nhập điểm trung bình: \"))\n",
        "if dtb >= 0 and dtb <5:\n",
        "  print(\"Yếu\")\n",
        "elif dtb < 7:\n",
        "  print(\"Trung bình\")\n",
        "elif dtb < 8:\n",
        "  print(\"Khá\")\n",
        "elif dtb <9:\n",
        "  print(\"Giỏi\")\n",
        "else:\n",
        "  print(\"Xuất sắc\")"
      ],
      "execution_count": 4,
      "outputs": [
        {
          "output_type": "stream",
          "name": "stdout",
          "text": [
            "Nhập điểm trung bình: 6.7\n",
            "Trung bình\n"
          ]
        }
      ]
    }
  ]
}