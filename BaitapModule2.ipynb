{
  "nbformat": 4,
  "nbformat_minor": 0,
  "metadata": {
    "colab": {
      "name": "BaitapModule2.ipynb",
      "provenance": [],
      "collapsed_sections": [],
      "authorship_tag": "ABX9TyMcQ2Zo1mJiWvkt9XXu9A9u",
      "include_colab_link": true
    },
    "kernelspec": {
      "name": "python3",
      "display_name": "Python 3"
    },
    "language_info": {
      "name": "python"
    }
  },
  "cells": [
    {
      "cell_type": "markdown",
      "metadata": {
        "id": "view-in-github",
        "colab_type": "text"
      },
      "source": [
        "<a href=\"https://colab.research.google.com/github/RifleB-1311/RifleB-1311/blob/main/BaitapModule2.ipynb\" target=\"_parent\"><img src=\"https://colab.research.google.com/assets/colab-badge.svg\" alt=\"Open In Colab\"/></a>"
      ]
    },
    {
      "cell_type": "markdown",
      "metadata": {
        "id": "8r-QKsWbY8ec"
      },
      "source": [
        "Bài 1: Hãy xây dựng một hàm thực hiện các yêu cầu sau:\n",
        "- Xuất ra màn hình câu thông báo: “Lập trình Java 2021”\n",
        "- Hàm không có giá trị trả về. \n",
        "Từ chương trình chính, gọi thực hiện hàm này."
      ]
    },
    {
      "cell_type": "code",
      "metadata": {
        "colab": {
          "base_uri": "https://localhost:8080/"
        },
        "id": "rkkbjrlUY3DP",
        "outputId": "2cdb65bc-28a1-4b67-8a5e-4d3711217849"
      },
      "source": [
        "def laptrinh():\n",
        "  print(\"Lập trình Java 2021\")\n",
        "laptrinh()"
      ],
      "execution_count": null,
      "outputs": [
        {
          "output_type": "stream",
          "name": "stdout",
          "text": [
            "Lập trình Java 2021\n"
          ]
        }
      ]
    },
    {
      "cell_type": "markdown",
      "metadata": {
        "id": "ClQnNeM5ZOus"
      },
      "source": [
        "Bài 2: Hãy xây dựng một hàm thực hiện các yêu cầu sau:\n",
        "- Nhận một tham số đầu vào là một chuỗi ký tự (kiểu String)\n",
        "- Xuất ra màn hình nội dung chuỗi được truyền vào từ tham số\n",
        "- Hàm không có giá trị trả về. \n",
        "Từ chương trình chính gọi thực hiện hàm này."
      ]
    },
    {
      "cell_type": "code",
      "metadata": {
        "colab": {
          "base_uri": "https://localhost:8080/"
        },
        "id": "s1bN3JfuZQmB",
        "outputId": "33c46896-cac8-4f38-ebb4-52da9650e220"
      },
      "source": [
        "def ham(chuoi):\n",
        "  print(chuoi)   \n",
        "ham(\"Chào thầy Cương\")"
      ],
      "execution_count": null,
      "outputs": [
        {
          "output_type": "stream",
          "name": "stdout",
          "text": [
            "Chào thầy Cương\n"
          ]
        }
      ]
    },
    {
      "cell_type": "markdown",
      "metadata": {
        "id": "iyG7f-FYaCrL"
      },
      "source": [
        "Bài 3: Hãy viết chương trình thực hiện các yêu cầu sau:\n",
        "- Nhập một số nguyên dương n từ bàn phím (kiểm tra nếu không đạt yêu cầu thì bắt nhập\n",
        "lại)\n",
        "- Nhập một thông điệp từ bàn phím\n",
        "- Gọi thực hiện hàm ở Bài 2 n lần với thông điệp được truyền làm tham số đầu vào của hàm."
      ]
    },
    {
      "cell_type": "code",
      "metadata": {
        "id": "pgT_f_6raG1B",
        "colab": {
          "base_uri": "https://localhost:8080/"
        },
        "outputId": "7ed6a473-8901-47e6-e56f-9fc17dcb9700"
      },
      "source": [
        "import string\n",
        "while True:\n",
        "  a = input(\"nhập n: \")\n",
        "  if a in string.digits :\n",
        "    a = int(a)\n",
        "    break\n",
        "chuỗi = input(\"nhập chuỗi: \")\n",
        "def bai3(chuỗi):\n",
        "  for i in range (a):\n",
        "   print(chuỗi)\n",
        "bai3(chuỗi)"
      ],
      "execution_count": 1,
      "outputs": [
        {
          "output_type": "stream",
          "name": "stdout",
          "text": [
            "nhập n: 5\n",
            "nhập chuỗi: Chào thầy Cương\n",
            "Chào thầy Cương\n",
            "Chào thầy Cương\n",
            "Chào thầy Cương\n",
            "Chào thầy Cương\n",
            "Chào thầy Cương\n"
          ]
        }
      ]
    },
    {
      "cell_type": "markdown",
      "metadata": {
        "id": "OYS_BWwbhH8F"
      },
      "source": [
        "Bài 4: Hãy viết chương trình thực hiện các yêu cầu sau:\n",
        "\n",
        "Xây dựng hàm giải phương trình bậc 1 (ax + b = 0), với hệ số a & b được truyền vào qua thông số của hàm.\n",
        "Chương trình chính nhận các thông số a, b từ bàn phím\n",
        "Chương trình chính gọi hàm giải phương trình bậc 1 nêu trên\n"
      ]
    },
    {
      "cell_type": "code",
      "metadata": {
        "id": "la4ypcCHhIP7",
        "colab": {
          "base_uri": "https://localhost:8080/"
        },
        "outputId": "91fc8f5b-fb04-4501-cf19-50ea165224aa"
      },
      "source": [
        "def ptbac1(a,b):\n",
        "  #a=float(input(\"Nhập a:\"))\n",
        "  #b=float(input(\"Nhập b:\"))\n",
        "  if a == 0:\n",
        "    if b==0:\n",
        "      print(\"Phương trình vô số nghiệm\")\n",
        "    else:\n",
        "      print(\"Phương trình vô nghiệm\")\n",
        "  else:\n",
        "    print(\"Phương trình có nghiệm là:\",-b/a)\n",
        "a=float(input(\"Nhập a:\"))\n",
        "b=float(input(\"Nhập b:\"))\n",
        "print(ptbac1(a,b))"
      ],
      "execution_count": null,
      "outputs": [
        {
          "output_type": "stream",
          "name": "stdout",
          "text": [
            "Nhập a:0\n",
            "Nhập b:1\n",
            "Phương trình vô nghiệm\n",
            "None\n"
          ]
        }
      ]
    },
    {
      "cell_type": "markdown",
      "metadata": {
        "id": "MQKP5wJtzuSP"
      },
      "source": [
        "Bài 5: Hãy viết chương trình thực hiện các yêu cầu sau:\n",
        "- Xây dựng hàm giải phương trình bậc (ax2 + bx + c = 0), với hệ số a & b & c được truyền\n",
        "vào qua thông số của hàm.\n",
        "- Chương trình chính nhận các thông số a, b & c từ bàn phím\n",
        "- Chương trình chính gọi hàm giải phương trình bậc 2 nêu trên"
      ]
    },
    {
      "cell_type": "code",
      "metadata": {
        "colab": {
          "base_uri": "https://localhost:8080/"
        },
        "id": "gAVXa-wMzwvA",
        "outputId": "6a9a693b-cd41-4fcf-fc4a-21f6d462b9d5"
      },
      "source": [
        "import math\n",
        "def ptbac2(a,b,c):\n",
        "  if (a==0):\n",
        "    if (b==0) and (c==0):\n",
        "      ketqua = \"phương trình có vô số nghiệm\"\n",
        "    elif (b==0) and (c!=0):\n",
        "      ketqua = \"phương trình vô nghiệm\"\n",
        "    elif (b!=0) and (c==0):\n",
        "      ketqua = \"x = 0\"\n",
        "  else:\n",
        "    if (b!=0) and (c!=0):\n",
        "      delta = b**2 - 4*a*c\n",
        "      if (delta > 0):\n",
        "        x1 = (-b-math.sqrt(delta))/2*a\n",
        "        x2 = (-b+math.sqrt(delta))/2*a\n",
        "        ketqua = (\"phương trình có 2 nghiệm phân biệt x1 =\", x1,\"và x2 =\", x2)\n",
        "      elif (delta == 0):\n",
        "        x = x1 = x2 = -b/2*a\n",
        "        ketqua = (\"phương trình có nghiệm kép x1 = x2 =\",x)\n",
        "      else:\n",
        "        ketqua = \"phương trình vô nghiệm\"\n",
        "  return(ketqua)\n",
        "x = float(input(\"nhập a: \"))\n",
        "y = float(input(\"nhập b: \"))\n",
        "z = float(input(\"nhập c: \"))\n",
        "print(ptbac2(x,y,z))"
      ],
      "execution_count": 2,
      "outputs": [
        {
          "output_type": "stream",
          "name": "stdout",
          "text": [
            "nhập a: 1\n",
            "nhập b: 2\n",
            "nhập c: 3\n",
            "phương trình vô nghiệm\n"
          ]
        }
      ]
    },
    {
      "cell_type": "markdown",
      "metadata": {
        "id": "Z_XaOYmT6kqB"
      },
      "source": [
        ""
      ]
    }
  ]
}